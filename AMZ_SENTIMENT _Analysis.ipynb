{
  "cells": [
    {
      "cell_type": "code",
      "execution_count": null,
      "metadata": {
        "id": "Xhe4qfFhiS4J"
      },
      "outputs": [],
      "source": [
        "import pandas as pd\n",
        "import numpy as np\n",
        "from sklearn.model_selection import train_test_split\n",
        "from tensorflow.keras.preprocessing.text import Tokenizer\n",
        "from tensorflow.keras.preprocessing.sequence import pad_sequences\n",
        "from tensorflow.keras.models import Sequential\n",
        "from tensorflow.keras.layers import Embedding, LSTM, Dense\n",
        "from sklearn.metrics import accuracy_score\n",
        "from keras.utils import to_categorical"
      ]
    },
    {
      "cell_type": "markdown",
      "metadata": {},
      "source": [
        "dataset = https://drive.google.com/file/d/1g4qapgpvK9AeYhIUEfHzHnLOjQoB2QuF/view?usp=drive_link"
      ]
    },
    {
      "cell_type": "code",
      "execution_count": null,
      "metadata": {
        "colab": {
          "base_uri": "https://localhost:8080/"
        },
        "id": "hwqbPqbOn0dO",
        "outputId": "f81651f0-f5fc-4e7e-fc32-0b4c73d66b90"
      },
      "outputs": [
        {
          "name": "stderr",
          "output_type": "stream",
          "text": [
            "[nltk_data] Downloading package stopwords to /root/nltk_data...\n",
            "[nltk_data]   Unzipping corpora/stopwords.zip.\n",
            "[nltk_data] Downloading package punkt to /root/nltk_data...\n",
            "[nltk_data]   Unzipping tokenizers/punkt.zip.\n",
            "[nltk_data] Downloading package averaged_perceptron_tagger to\n",
            "[nltk_data]     /root/nltk_data...\n",
            "[nltk_data]   Unzipping taggers/averaged_perceptron_tagger.zip.\n",
            "[nltk_data] Downloading package maxent_ne_chunker to\n",
            "[nltk_data]     /root/nltk_data...\n",
            "[nltk_data]   Unzipping chunkers/maxent_ne_chunker.zip.\n",
            "[nltk_data] Downloading package words to /root/nltk_data...\n",
            "[nltk_data]   Unzipping corpora/words.zip.\n"
          ]
        }
      ],
      "source": [
        "import os\n",
        "import random\n",
        "import nltk\n",
        "nltk.download('stopwords')\n",
        "nltk.download('punkt')\n",
        "nltk.download('averaged_perceptron_tagger')\n",
        "\n",
        "\n",
        "nltk.download('maxent_ne_chunker')\n",
        "nltk.download('words')\n",
        "random.seed(92)\n",
        "\n",
        "# Load the TensorBoard notebook extension\n",
        "%load_ext tensorboard"
      ]
    },
    {
      "cell_type": "code",
      "execution_count": null,
      "metadata": {
        "colab": {
          "base_uri": "https://localhost:8080/",
          "height": 504
        },
        "id": "iOSCIF8zaRk9",
        "outputId": "1c9f8468-2d4c-4c81-ddac-d9138f309120"
      },
      "outputs": [
        {
          "data": {
            "text/html": [
              "\n",
              "  <div id=\"df-6ca88693-c4f4-486e-9ac7-a4d16ff15da6\" class=\"colab-df-container\">\n",
              "    <div>\n",
              "<style scoped>\n",
              "    .dataframe tbody tr th:only-of-type {\n",
              "        vertical-align: middle;\n",
              "    }\n",
              "\n",
              "    .dataframe tbody tr th {\n",
              "        vertical-align: top;\n",
              "    }\n",
              "\n",
              "    .dataframe thead th {\n",
              "        text-align: right;\n",
              "    }\n",
              "</style>\n",
              "<table border=\"1\" class=\"dataframe\">\n",
              "  <thead>\n",
              "    <tr style=\"text-align: right;\">\n",
              "      <th></th>\n",
              "      <th>Unnamed: 0</th>\n",
              "      <th>reviewerName</th>\n",
              "      <th>overall</th>\n",
              "      <th>reviewText</th>\n",
              "      <th>reviewTime</th>\n",
              "      <th>day_diff</th>\n",
              "      <th>helpful_yes</th>\n",
              "      <th>helpful_no</th>\n",
              "      <th>total_vote</th>\n",
              "      <th>score_pos_neg_diff</th>\n",
              "      <th>score_average_rating</th>\n",
              "      <th>wilson_lower_bound</th>\n",
              "    </tr>\n",
              "  </thead>\n",
              "  <tbody>\n",
              "    <tr>\n",
              "      <th>0</th>\n",
              "      <td>0</td>\n",
              "      <td>NaN</td>\n",
              "      <td>4</td>\n",
              "      <td>No issues.</td>\n",
              "      <td>23-07-2014</td>\n",
              "      <td>138</td>\n",
              "      <td>0</td>\n",
              "      <td>0</td>\n",
              "      <td>0</td>\n",
              "      <td>0</td>\n",
              "      <td>0.0</td>\n",
              "      <td>0.0</td>\n",
              "    </tr>\n",
              "    <tr>\n",
              "      <th>1</th>\n",
              "      <td>1</td>\n",
              "      <td>0mie</td>\n",
              "      <td>5</td>\n",
              "      <td>Purchased this for my device, it worked as adv...</td>\n",
              "      <td>25-10-2013</td>\n",
              "      <td>409</td>\n",
              "      <td>0</td>\n",
              "      <td>0</td>\n",
              "      <td>0</td>\n",
              "      <td>0</td>\n",
              "      <td>0.0</td>\n",
              "      <td>0.0</td>\n",
              "    </tr>\n",
              "    <tr>\n",
              "      <th>2</th>\n",
              "      <td>2</td>\n",
              "      <td>1K3</td>\n",
              "      <td>4</td>\n",
              "      <td>it works as expected. I should have sprung for...</td>\n",
              "      <td>23-12-2012</td>\n",
              "      <td>715</td>\n",
              "      <td>0</td>\n",
              "      <td>0</td>\n",
              "      <td>0</td>\n",
              "      <td>0</td>\n",
              "      <td>0.0</td>\n",
              "      <td>0.0</td>\n",
              "    </tr>\n",
              "    <tr>\n",
              "      <th>3</th>\n",
              "      <td>3</td>\n",
              "      <td>1m2</td>\n",
              "      <td>5</td>\n",
              "      <td>This think has worked out great.Had a diff. br...</td>\n",
              "      <td>21-11-2013</td>\n",
              "      <td>382</td>\n",
              "      <td>0</td>\n",
              "      <td>0</td>\n",
              "      <td>0</td>\n",
              "      <td>0</td>\n",
              "      <td>0.0</td>\n",
              "      <td>0.0</td>\n",
              "    </tr>\n",
              "    <tr>\n",
              "      <th>4</th>\n",
              "      <td>4</td>\n",
              "      <td>2&amp;amp;1/2Men</td>\n",
              "      <td>5</td>\n",
              "      <td>Bought it with Retail Packaging, arrived legit...</td>\n",
              "      <td>13-07-2013</td>\n",
              "      <td>513</td>\n",
              "      <td>0</td>\n",
              "      <td>0</td>\n",
              "      <td>0</td>\n",
              "      <td>0</td>\n",
              "      <td>0.0</td>\n",
              "      <td>0.0</td>\n",
              "    </tr>\n",
              "  </tbody>\n",
              "</table>\n",
              "</div>\n",
              "    <div class=\"colab-df-buttons\">\n",
              "\n",
              "  <div class=\"colab-df-container\">\n",
              "    <button class=\"colab-df-convert\" onclick=\"convertToInteractive('df-6ca88693-c4f4-486e-9ac7-a4d16ff15da6')\"\n",
              "            title=\"Convert this dataframe to an interactive table.\"\n",
              "            style=\"display:none;\">\n",
              "\n",
              "  <svg xmlns=\"http://www.w3.org/2000/svg\" height=\"24px\" viewBox=\"0 -960 960 960\">\n",
              "    <path d=\"M120-120v-720h720v720H120Zm60-500h600v-160H180v160Zm220 220h160v-160H400v160Zm0 220h160v-160H400v160ZM180-400h160v-160H180v160Zm440 0h160v-160H620v160ZM180-180h160v-160H180v160Zm440 0h160v-160H620v160Z\"/>\n",
              "  </svg>\n",
              "    </button>\n",
              "\n",
              "  <style>\n",
              "    .colab-df-container {\n",
              "      display:flex;\n",
              "      gap: 12px;\n",
              "    }\n",
              "\n",
              "    .colab-df-convert {\n",
              "      background-color: #E8F0FE;\n",
              "      border: none;\n",
              "      border-radius: 50%;\n",
              "      cursor: pointer;\n",
              "      display: none;\n",
              "      fill: #1967D2;\n",
              "      height: 32px;\n",
              "      padding: 0 0 0 0;\n",
              "      width: 32px;\n",
              "    }\n",
              "\n",
              "    .colab-df-convert:hover {\n",
              "      background-color: #E2EBFA;\n",
              "      box-shadow: 0px 1px 2px rgba(60, 64, 67, 0.3), 0px 1px 3px 1px rgba(60, 64, 67, 0.15);\n",
              "      fill: #174EA6;\n",
              "    }\n",
              "\n",
              "    .colab-df-buttons div {\n",
              "      margin-bottom: 4px;\n",
              "    }\n",
              "\n",
              "    [theme=dark] .colab-df-convert {\n",
              "      background-color: #3B4455;\n",
              "      fill: #D2E3FC;\n",
              "    }\n",
              "\n",
              "    [theme=dark] .colab-df-convert:hover {\n",
              "      background-color: #434B5C;\n",
              "      box-shadow: 0px 1px 3px 1px rgba(0, 0, 0, 0.15);\n",
              "      filter: drop-shadow(0px 1px 2px rgba(0, 0, 0, 0.3));\n",
              "      fill: #FFFFFF;\n",
              "    }\n",
              "  </style>\n",
              "\n",
              "    <script>\n",
              "      const buttonEl =\n",
              "        document.querySelector('#df-6ca88693-c4f4-486e-9ac7-a4d16ff15da6 button.colab-df-convert');\n",
              "      buttonEl.style.display =\n",
              "        google.colab.kernel.accessAllowed ? 'block' : 'none';\n",
              "\n",
              "      async function convertToInteractive(key) {\n",
              "        const element = document.querySelector('#df-6ca88693-c4f4-486e-9ac7-a4d16ff15da6');\n",
              "        const dataTable =\n",
              "          await google.colab.kernel.invokeFunction('convertToInteractive',\n",
              "                                                    [key], {});\n",
              "        if (!dataTable) return;\n",
              "\n",
              "        const docLinkHtml = 'Like what you see? Visit the ' +\n",
              "          '<a target=\"_blank\" href=https://colab.research.google.com/notebooks/data_table.ipynb>data table notebook</a>'\n",
              "          + ' to learn more about interactive tables.';\n",
              "        element.innerHTML = '';\n",
              "        dataTable['output_type'] = 'display_data';\n",
              "        await google.colab.output.renderOutput(dataTable, element);\n",
              "        const docLink = document.createElement('div');\n",
              "        docLink.innerHTML = docLinkHtml;\n",
              "        element.appendChild(docLink);\n",
              "      }\n",
              "    </script>\n",
              "  </div>\n",
              "\n",
              "\n",
              "<div id=\"df-9c10625e-e53f-4565-b9ad-875fb35f5dff\">\n",
              "  <button class=\"colab-df-quickchart\" onclick=\"quickchart('df-9c10625e-e53f-4565-b9ad-875fb35f5dff')\"\n",
              "            title=\"Suggest charts.\"\n",
              "            style=\"display:none;\">\n",
              "\n",
              "<svg xmlns=\"http://www.w3.org/2000/svg\" height=\"24px\"viewBox=\"0 0 24 24\"\n",
              "     width=\"24px\">\n",
              "    <g>\n",
              "        <path d=\"M19 3H5c-1.1 0-2 .9-2 2v14c0 1.1.9 2 2 2h14c1.1 0 2-.9 2-2V5c0-1.1-.9-2-2-2zM9 17H7v-7h2v7zm4 0h-2V7h2v10zm4 0h-2v-4h2v4z\"/>\n",
              "    </g>\n",
              "</svg>\n",
              "  </button>\n",
              "\n",
              "<style>\n",
              "  .colab-df-quickchart {\n",
              "    background-color: #E8F0FE;\n",
              "    border: none;\n",
              "    border-radius: 50%;\n",
              "    cursor: pointer;\n",
              "    display: none;\n",
              "    fill: #1967D2;\n",
              "    height: 32px;\n",
              "    padding: 0 0 0 0;\n",
              "    width: 32px;\n",
              "  }\n",
              "\n",
              "  .colab-df-quickchart:hover {\n",
              "    background-color: #E2EBFA;\n",
              "    box-shadow: 0px 1px 2px rgba(60, 64, 67, 0.3), 0px 1px 3px 1px rgba(60, 64, 67, 0.15);\n",
              "    fill: #174EA6;\n",
              "  }\n",
              "\n",
              "  [theme=dark] .colab-df-quickchart {\n",
              "    background-color: #3B4455;\n",
              "    fill: #D2E3FC;\n",
              "  }\n",
              "\n",
              "  [theme=dark] .colab-df-quickchart:hover {\n",
              "    background-color: #434B5C;\n",
              "    box-shadow: 0px 1px 3px 1px rgba(0, 0, 0, 0.15);\n",
              "    filter: drop-shadow(0px 1px 2px rgba(0, 0, 0, 0.3));\n",
              "    fill: #FFFFFF;\n",
              "  }\n",
              "</style>\n",
              "\n",
              "  <script>\n",
              "    async function quickchart(key) {\n",
              "      const charts = await google.colab.kernel.invokeFunction(\n",
              "          'suggestCharts', [key], {});\n",
              "    }\n",
              "    (() => {\n",
              "      let quickchartButtonEl =\n",
              "        document.querySelector('#df-9c10625e-e53f-4565-b9ad-875fb35f5dff button');\n",
              "      quickchartButtonEl.style.display =\n",
              "        google.colab.kernel.accessAllowed ? 'block' : 'none';\n",
              "    })();\n",
              "  </script>\n",
              "</div>\n",
              "    </div>\n",
              "  </div>\n"
            ],
            "text/plain": [
              "   Unnamed: 0  reviewerName  overall  \\\n",
              "0           0           NaN        4   \n",
              "1           1          0mie        5   \n",
              "2           2           1K3        4   \n",
              "3           3           1m2        5   \n",
              "4           4  2&amp;1/2Men        5   \n",
              "\n",
              "                                          reviewText  reviewTime  day_diff  \\\n",
              "0                                         No issues.  23-07-2014       138   \n",
              "1  Purchased this for my device, it worked as adv...  25-10-2013       409   \n",
              "2  it works as expected. I should have sprung for...  23-12-2012       715   \n",
              "3  This think has worked out great.Had a diff. br...  21-11-2013       382   \n",
              "4  Bought it with Retail Packaging, arrived legit...  13-07-2013       513   \n",
              "\n",
              "   helpful_yes  helpful_no  total_vote  score_pos_neg_diff  \\\n",
              "0            0           0           0                   0   \n",
              "1            0           0           0                   0   \n",
              "2            0           0           0                   0   \n",
              "3            0           0           0                   0   \n",
              "4            0           0           0                   0   \n",
              "\n",
              "   score_average_rating  wilson_lower_bound  \n",
              "0                   0.0                 0.0  \n",
              "1                   0.0                 0.0  \n",
              "2                   0.0                 0.0  \n",
              "3                   0.0                 0.0  \n",
              "4                   0.0                 0.0  "
            ]
          },
          "execution_count": 8,
          "metadata": {},
          "output_type": "execute_result"
        }
      ],
      "source": [
        "df = pd.read_csv(\"/content/drive/MyDrive/Colab Notebooks/amazon.csv\")\n",
        "df.head()"
      ]
    },
    {
      "cell_type": "markdown",
      "metadata": {
        "id": "Y2yskz06VUWa"
      },
      "source": [
        "### **PREPROCESSING**"
      ]
    },
    {
      "cell_type": "code",
      "execution_count": null,
      "metadata": {
        "colab": {
          "base_uri": "https://localhost:8080/"
        },
        "id": "zoFulzHX5AOz",
        "outputId": "1ed916d4-8039-4c8b-cd25-496135a36efb"
      },
      "outputs": [
        {
          "name": "stderr",
          "output_type": "stream",
          "text": [
            "[nltk_data] Downloading package punkt to /root/nltk_data...\n",
            "[nltk_data]   Package punkt is already up-to-date!\n",
            "[nltk_data] Downloading package stopwords to /root/nltk_data...\n",
            "[nltk_data]   Package stopwords is already up-to-date!\n"
          ]
        },
        {
          "name": "stdout",
          "output_type": "stream",
          "text": [
            "0                                                 issu\n",
            "1    purchas devic work advertis never much phone m...\n",
            "2    work expect sprung higher capac think made bit...\n",
            "3    think work greathad diff bran 64gb card went s...\n",
            "4    bought retail packag arriv legit orang envelop...\n",
            "Name: reviewText, dtype: object\n"
          ]
        }
      ],
      "source": [
        "import pandas as pd\n",
        "import re\n",
        "import nltk\n",
        "from nltk.corpus import stopwords\n",
        "from nltk.tokenize import word_tokenize\n",
        "from nltk.stem import PorterStemmer\n",
        "\n",
        "# Download NLTK data (if not already downloaded)\n",
        "nltk.download('punkt')\n",
        "nltk.download('stopwords')  # Download stopwords data\n",
        "\n",
        "\n",
        "# Define a function for text preprocessing\n",
        "def preprocess_text(text):\n",
        "    # Check if the text is a string or handle other data types\n",
        "    if isinstance(text, str):\n",
        "        # Remove HTML tags (if any)\n",
        "        text = re.sub(r'<.*?>', '', text)\n",
        "\n",
        "        # Convert text to lowercase\n",
        "        text = text.lower()\n",
        "\n",
        "        # Remove non-alphanumeric characters and special characters\n",
        "        text = re.sub(r'[^a-zA-Z0-9\\s]', '', text)\n",
        "\n",
        "        # Tokenize the text\n",
        "        tokens = word_tokenize(text)\n",
        "\n",
        "        # Remove stopwords\n",
        "        stop_words = set(stopwords.words('english'))\n",
        "        tokens = [word for word in tokens if word not in stop_words]\n",
        "\n",
        "        # Perform stemming (you can also use lemmatization if preferred)\n",
        "        stemmer = PorterStemmer()\n",
        "        tokens = [stemmer.stem(word) for word in tokens]\n",
        "\n",
        "        # Join the tokens back into a single string\n",
        "        preprocessed_text = ' '.join(tokens)\n",
        "\n",
        "        return preprocessed_text\n",
        "    else:\n",
        "        # If the input is not a string, return an empty string or handle it as needed\n",
        "        return ''\n",
        "\n",
        "# Apply the preprocessing function to the 'reviewText' column\n",
        "df['reviewText'] = df['reviewText'].apply(preprocess_text)\n",
        "\n",
        "# Print the first few rows to check the result\n",
        "print(df['reviewText'].head())\n"
      ]
    },
    {
      "cell_type": "markdown",
      "metadata": {
        "id": "FfaDlTwNVek8"
      },
      "source": [
        "### **Summary statistics**"
      ]
    },
    {
      "cell_type": "code",
      "execution_count": null,
      "metadata": {
        "colab": {
          "base_uri": "https://localhost:8080/"
        },
        "id": "qlH3a0A75UDf",
        "outputId": "06cf6d0e-430a-4b9e-c419-ed6f6c7b14f2"
      },
      "outputs": [
        {
          "name": "stdout",
          "output_type": "stream",
          "text": [
            "        Unnamed: 0      overall     day_diff  helpful_yes   helpful_no  \\\n",
            "count  4915.000000  4915.000000  4915.000000  4915.000000  4915.000000   \n",
            "mean   2457.000000     4.587589   437.367040     1.311089     0.210376   \n",
            "std    1418.982617     0.996845   209.439871    41.619161     4.023296   \n",
            "min       0.000000     1.000000     1.000000     0.000000     0.000000   \n",
            "25%    1228.500000     5.000000   281.000000     0.000000     0.000000   \n",
            "50%    2457.000000     5.000000   431.000000     0.000000     0.000000   \n",
            "75%    3685.500000     5.000000   601.000000     0.000000     0.000000   \n",
            "max    4914.000000     5.000000  1064.000000  1952.000000   183.000000   \n",
            "\n",
            "        total_vote  score_pos_neg_diff  score_average_rating  \\\n",
            "count  4915.000000         4915.000000           4915.000000   \n",
            "mean      1.521465            1.100712              0.075468   \n",
            "std      44.123095           39.367949              0.256062   \n",
            "min       0.000000         -130.000000              0.000000   \n",
            "25%       0.000000            0.000000              0.000000   \n",
            "50%       0.000000            0.000000              0.000000   \n",
            "75%       0.000000            0.000000              0.000000   \n",
            "max    2020.000000         1884.000000              1.000000   \n",
            "\n",
            "       wilson_lower_bound  \n",
            "count         4915.000000  \n",
            "mean             0.020053  \n",
            "std              0.077187  \n",
            "min              0.000000  \n",
            "25%              0.000000  \n",
            "50%              0.000000  \n",
            "75%              0.000000  \n",
            "max              0.957544  \n"
          ]
        }
      ],
      "source": [
        "import pandas as pd\n",
        "import matplotlib.pyplot as plt\n",
        "import seaborn as sns\n",
        "\n",
        "# Summary statistics of your dataset\n",
        "print(df.describe())\n"
      ]
    },
    {
      "cell_type": "markdown",
      "metadata": {
        "id": "wkyQnuKQVxja"
      },
      "source": [
        "### Visually Distribution of review lengths"
      ]
    },
    {
      "cell_type": "code",
      "execution_count": null,
      "metadata": {
        "colab": {
          "base_uri": "https://localhost:8080/",
          "height": 564
        },
        "id": "ap_-nqf76Qv7",
        "outputId": "386f0231-4e1f-4ed7-f119-d3c7640d55ea"
      },
      "outputs": [
        {
          "data": {
            "image/png": "[encoded data removed]",
            "text/plain": [
              "<Figure size 800x600 with 1 Axes>"
            ]
          },
          "metadata": {},
          "output_type": "display_data"
        }
      ],
      "source": [
        "# Distribution of review lengths\n",
        "df['reviewLength'] = df['reviewText'].apply(lambda x: len(x.split()))\n",
        "plt.figure(figsize=(8, 6))\n",
        "sns.histplot(df['reviewLength'], bins=50)\n",
        "plt.title('Distribution of Review Lengths')\n",
        "plt.xlabel('Review Length')\n",
        "plt.ylabel('Frequency')\n",
        "plt.show()\n"
      ]
    },
    {
      "cell_type": "markdown",
      "metadata": {
        "id": "kKRSyoOKV-dl"
      },
      "source": [
        "### Word frequency analysis"
      ]
    },
    {
      "cell_type": "code",
      "execution_count": null,
      "metadata": {
        "colab": {
          "base_uri": "https://localhost:8080/",
          "height": 638
        },
        "id": "LrWDApkdwu-i",
        "outputId": "99d880da-6141-4012-c48e-f2dce82149a0"
      },
      "outputs": [
        {
          "data": {
            "image/png": "[encoded data removed]",
            "text/plain": [
              "<Figure size 800x600 with 1 Axes>"
            ]
          },
          "metadata": {},
          "output_type": "display_data"
        },
        {
          "name": "stdout",
          "output_type": "stream",
          "text": [
            "positive    4449\n",
            "negative     324\n",
            "neutral      142\n",
            "Name: sentiment, dtype: int64\n"
          ]
        }
      ],
      "source": [
        "import pandas as pd\n",
        "import matplotlib.pyplot as plt\n",
        "\n",
        "# Load your dataset, assuming you have a DataFrame named 'df' with a 'sentiment' column\n",
        "# Replace 'your_dataset.csv' with the actual path to your dataset file\n",
        "# df = pd.read_csv('your_dataset.csv')\n",
        "\n",
        "# Count the occurrences of each sentiment class\n",
        "class_counts = df['sentiment'].value_counts()\n",
        "\n",
        "# Plot the class distribution\n",
        "plt.figure(figsize=(8, 6))\n",
        "plt.bar(class_counts.index, class_counts.values)\n",
        "plt.xlabel('Sentiment Class')\n",
        "plt.ylabel('Count')\n",
        "plt.title('Class Distribution')\n",
        "plt.show()\n",
        "\n",
        "# Print the class counts\n",
        "print(class_counts)\n"
      ]
    },
    {
      "cell_type": "code",
      "execution_count": null,
      "metadata": {
        "colab": {
          "base_uri": "https://localhost:8080/"
        },
        "id": "UTiSlxYz6xHE",
        "outputId": "e7a6ab42-d37f-4cf0-b0fa-b65fbefbe0a8"
      },
      "outputs": [
        {
          "name": "stdout",
          "output_type": "stream",
          "text": [
            "Top 10 most common words:\n",
            "card: 5524\n",
            "work: 2772\n",
            "use: 2206\n",
            "phone: 1906\n",
            "great: 1445\n",
            "memori: 1374\n",
            "sandisk: 1309\n",
            "sd: 1205\n",
            "one: 1115\n",
            "galaxi: 1024\n"
          ]
        }
      ],
      "source": [
        "# Word frequency analysis (for example, top 10 words)\n",
        "from collections import Counter\n",
        "word_counts = Counter(\" \".join(df['reviewText']).split())\n",
        "top_words = word_counts.most_common(10)\n",
        "print(\"Top 10 most common words:\")\n",
        "for word, count in top_words:\n",
        "    print(f\"{word}: {count}\")"
      ]
    },
    {
      "cell_type": "code",
      "execution_count": null,
      "metadata": {
        "id": "sAOIA20w8pdc"
      },
      "outputs": [],
      "source": [
        "def label_sentiment(rating):\n",
        "    if rating >= 4:\n",
        "        return 'positive'\n",
        "    elif rating <= 2:\n",
        "        return 'negative'\n",
        "    else:\n",
        "        return 'neutral'\n",
        "\n",
        "# Assuming 'overall (rating)' is the column containing ratings\n",
        "df['sentiment'] = df['overall'].apply(label_sentiment)\n"
      ]
    },
    {
      "cell_type": "markdown",
      "metadata": {
        "id": "nGBHSm7xDOgt"
      },
      "source": [
        "### **Split data into training and Testing**"
      ]
    },
    {
      "cell_type": "code",
      "execution_count": null,
      "metadata": {
        "colab": {
          "base_uri": "https://localhost:8080/"
        },
        "id": "4phYjeA29ZFj",
        "outputId": "268c207d-906e-4091-be42-9399b40b5ec4"
      },
      "outputs": [
        {
          "name": "stdout",
          "output_type": "stream",
          "text": [
            "Training set size: 3686\n",
            "Testing set size: 1229\n"
          ]
        }
      ],
      "source": [
        "import pandas as pd\n",
        "from sklearn.model_selection import train_test_split\n",
        "\n",
        "X_train, X_test, y_train, y_test = train_test_split(df['reviewText'], df['sentiment'], test_size=0.25, random_state=42)\n",
        "\n",
        "\n",
        "# Check the sizes of the resulting sets\n",
        "print(\"Training set size:\", len(X_train))\n",
        "print(\"Testing set size:\", len(X_test))\n"
      ]
    },
    {
      "cell_type": "code",
      "execution_count": null,
      "metadata": {
        "colab": {
          "base_uri": "https://localhost:8080/"
        },
        "id": "imxGw6M74Irh",
        "outputId": "3e6fbe54-f269-483b-a84f-543c57d9bdf7"
      },
      "outputs": [
        {
          "name": "stdout",
          "output_type": "stream",
          "text": [
            "{'positive': 0.3682475462650783, 'negative': 5.056584362139918, 'neutral': 11.53755868544601}\n"
          ]
        }
      ],
      "source": [
        "import numpy as np\n",
        "\n",
        "# Get the count of each class in the training data\n",
        "class_counts = df['sentiment'].value_counts()\n",
        "\n",
        "# Calculate the class weight for each class\n",
        "total_samples = len(df)\n",
        "class_weights = {}\n",
        "for sentiment, count in class_counts.items():\n",
        "    class_weight = total_samples / (count * len(class_counts))\n",
        "    class_weights[sentiment] = class_weight\n",
        "\n",
        "# Print the class weights\n",
        "print(class_weights)\n"
      ]
    },
    {
      "cell_type": "markdown",
      "metadata": {
        "id": "EGveee9WEGaZ"
      },
      "source": [
        "### **Tokenize the text data and pad sequences**"
      ]
    },
    {
      "cell_type": "code",
      "execution_count": null,
      "metadata": {
        "id": "M_CatSPFEP7d"
      },
      "outputs": [],
      "source": [
        "max_words = 10000  # Number of unique words in your vocabulary\n",
        "max_sequence_length = 100  # Maximum sequence length (adjust as needed)\n",
        "\n",
        "tokenizer = Tokenizer(num_words=max_words)\n",
        "tokenizer.fit_on_texts(X_train)\n",
        "\n",
        "X_train_seq = tokenizer.texts_to_sequences(X_train)\n",
        "X_test_seq = tokenizer.texts_to_sequences(X_test)\n",
        "\n",
        "X_train_padded = pad_sequences(X_train_seq, maxlen=max_sequence_length)\n",
        "X_test_padded = pad_sequences(X_test_seq, maxlen=max_sequence_length)"
      ]
    },
    {
      "cell_type": "markdown",
      "metadata": {
        "id": "JYREZ46QEaWX"
      },
      "source": [
        "### **one-hot encoding**"
      ]
    },
    {
      "cell_type": "code",
      "execution_count": null,
      "metadata": {
        "id": "Bnt5MpuMEfVs"
      },
      "outputs": [],
      "source": [
        "# Apply one-hot encoding labels\n",
        "num_classes = 3  # Since we have 3 classes (positive, neutral, negative)\n",
        "label_to_index = {'positive': 0, 'neutral': 1, 'negative': 2}"
      ]
    },
    {
      "cell_type": "code",
      "execution_count": null,
      "metadata": {
        "id": "4Plh9gfxEuXQ"
      },
      "outputs": [],
      "source": [
        "# Apply the mapping to your labels\n",
        "y_train = y_train.map(label_to_index)\n",
        "y_test = y_test.map(label_to_index)\n",
        "\n",
        "# Now, apply one-hot encoding to your labels\n",
        "y_train_encoded = to_categorical(y_train, num_classes=num_classes)\n",
        "y_test_encoded = to_categorical(y_test, num_classes=num_classes)\n"
      ]
    },
    {
      "cell_type": "markdown",
      "metadata": {
        "id": "gdKxTs8BE5Du"
      },
      "source": [
        "### **LSTM model**"
      ]
    },
    {
      "cell_type": "code",
      "execution_count": null,
      "metadata": {
        "id": "2CQRCWhrFBZF"
      },
      "outputs": [],
      "source": [
        "# Build the LSTM model\n",
        "model = Sequential()\n",
        "model.add(Embedding(input_dim=max_words, output_dim=128, input_length=max_sequence_length))\n",
        "model.add(LSTM(128))\n",
        "model.add(Dense(num_classes, activation='softmax'))  # Use num_classes for output"
      ]
    },
    {
      "cell_type": "code",
      "execution_count": null,
      "metadata": {
        "id": "FP2lAdI1FFfG"
      },
      "outputs": [],
      "source": [
        "# Compile the model\n",
        "model.compile(loss='categorical_crossentropy', optimizer='adam', metrics=['accuracy'])"
      ]
    },
    {
      "cell_type": "code",
      "execution_count": null,
      "metadata": {
        "id": "j6Qzm9bDGEMk"
      },
      "outputs": [],
      "source": [
        "class_mapping = {'positive': 0, 'negative': 1, 'neutral': 2}\n",
        "y_train_encoded = y_train.map(class_mapping)\n",
        "y_test_encoded = y_test.map(class_mapping)\n",
        "\n"
      ]
    },
    {
      "cell_type": "markdown",
      "metadata": {
        "id": "Tfq7zrQYPaI8"
      },
      "source": [
        "### Testing on sample review"
      ]
    },
    {
      "cell_type": "code",
      "execution_count": null,
      "metadata": {
        "id": "O10UHRHJmFhJ"
      },
      "outputs": [],
      "source": [
        "# Sample text (replace with your actual sample)\n",
        "sample_text = \"This is great product\"\n",
        "\n",
        "# Preprocess the sample text\n",
        "sample_text_seq = tokenizer.texts_to_sequences([sample_text])\n",
        "sample_text_padded = pad_sequences(sample_text_seq, maxlen=max_sequence_length)\n"
      ]
    },
    {
      "cell_type": "code",
      "execution_count": null,
      "metadata": {
        "colab": {
          "base_uri": "https://localhost:8080/"
        },
        "id": "NouKv7wBmKW6",
        "outputId": "009c813a-cf54-4890-bcc8-61998ccedc63"
      },
      "outputs": [
        {
          "name": "stdout",
          "output_type": "stream",
          "text": [
            "1/1 [==============================] - 0s 35ms/step\n"
          ]
        }
      ],
      "source": [
        "# Make predictions on the sample text\n",
        "sample_predictions = model.predict(sample_text_padded)\n",
        "\n",
        "# Interpret the predictions\n",
        "predicted_label = np.argmax(sample_predictions)\n"
      ]
    },
    {
      "cell_type": "code",
      "execution_count": null,
      "metadata": {
        "colab": {
          "base_uri": "https://localhost:8080/"
        },
        "id": "LSeRuuZRmN2-",
        "outputId": "b6b35251-d57a-4bee-9826-dae639d010e9"
      },
      "outputs": [
        {
          "name": "stdout",
          "output_type": "stream",
          "text": [
            "Predicted Sentiment: positive\n"
          ]
        }
      ],
      "source": [
        "class_labels = ['positive', 'neutral', 'negative']\n",
        "predicted_sentiment = class_labels[predicted_label]\n",
        "print(\"Predicted Sentiment:\", predicted_sentiment)\n"
      ]
    },
    {
      "cell_type": "code",
      "execution_count": null,
      "metadata": {
        "id": "FP14QX3jmYSF"
      },
      "outputs": [],
      "source": [
        "model.save_weights(\"sentiment_analysis.h5\")"
      ]
    },
    {
      "cell_type": "code",
      "execution_count": null,
      "metadata": {
        "id": "_8lq8_88oLiD"
      },
      "outputs": [],
      "source": [
        "# Convert model architecture to JSON format\n",
        "model_json = model.to_json()\n",
        "\n",
        "# Save the model architecture to a JSON file\n",
        "with open(\"sentiment_analysis.json\", \"w\") as json_file:\n",
        "    json_file.write(model_json)"
      ]
    },
    {
      "cell_type": "markdown",
      "metadata": {
        "id": "zZWOT4CLPurl"
      },
      "source": [
        "### Testing using saved weights"
      ]
    },
    {
      "cell_type": "code",
      "execution_count": null,
      "metadata": {
        "colab": {
          "base_uri": "https://localhost:8080/"
        },
        "id": "WtcFI5CYoPsH",
        "outputId": "02c9dfde-cd37-4762-e2bb-9f0f1bf0d7c0"
      },
      "outputs": [
        {
          "name": "stdout",
          "output_type": "stream",
          "text": [
            "1/1 [==============================] - 0s 419ms/step\n",
            "Predicted Sentiment: negative\n"
          ]
        }
      ],
      "source": [
        "from tensorflow.keras.models import model_from_json\n",
        "from tensorflow.keras.preprocessing.text import Tokenizer\n",
        "\n",
        "\n",
        "# Assuming you have already trained and saved your model\n",
        "# Load the model architecture from the JSON file\n",
        "model_architecture_path = '/content/drive/MyDrive/sentiment_analysis.json'\n",
        "with open(model_architecture_path, 'r') as json_file:\n",
        "    model_json = json_file.read()\n",
        "\n",
        "# Load the model weights from the H5 file\n",
        "model_weights_path = '/content/drive/MyDrive/sentiment_analysis.h5'\n",
        "loaded_model = model_from_json(model_json)\n",
        "loaded_model.load_weights(model_weights_path)\n",
        "\n",
        "# Load an example review text for testing\n",
        "test_review = \" bad bad bad\"\n",
        "\n",
        "# Preprocess and tokenize the test review\n",
        "max_words = 10000  # Number of unique words in your vocabulary\n",
        "max_sequence_length = 100  # Maximum sequence length (should be the same as during training)\n",
        "\n",
        "tokenizer = Tokenizer(num_words=max_words)\n",
        "tokenizer.fit_on_texts([test_review])\n",
        "\n",
        "test_sequence = tokenizer.texts_to_sequences([test_review])\n",
        "test_padded = pad_sequences(test_sequence, maxlen=max_sequence_length)\n",
        "\n",
        "# Make predictions on the test review\n",
        "predictions = loaded_model.predict(test_padded)\n",
        "\n",
        "# Convert one-hot encoded predictions back to class labels\n",
        "predicted_sentiment = np.argmax(predictions, axis=1)\n",
        "\n",
        "# Define your class labels (positive, neutral, negative)\n",
        "class_labels = ['positive', 'neutral', 'negative']\n",
        "\n",
        "# Print the predicted sentiment\n",
        "print(\"Predicted Sentiment:\", class_labels[predicted_sentiment[0]])\n"
      ]
    }
  ],
  "metadata": {
    "colab": {
      "provenance": []
    },
    "kernelspec": {
      "display_name": "Python 3",
      "name": "python3"
    },
    "language_info": {
      "name": "python"
    }
  },
  "nbformat": 4,
  "nbformat_minor": 0
}
